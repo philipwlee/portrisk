{
 "cells": [
  {
   "cell_type": "markdown",
   "metadata": {},
   "source": [
    "For this exam, use the included data file, `factor_model_data_with_momentum.xls`.\n",
    "\n",
    " - The first tab contains the factors. Note that you need to compute,\n",
    " \n",
    " $$\n",
    " \\tilde r^m = r^m - r^f.\n",
    " $$\n",
    " \n",
    " - The second tab contains monthly excess returns on 30 test portfolios, $\\tilde r^i_t$, corresponding to equities grouped by industries. \n",
    " \n",
    "We won't be using the other tabs in this exam.\n",
    "\n",
    "# Problem 1 (10 pts)\n",
    "\n",
    "For the 30 industry portfolios in the second tab of the data, compute the means and standard deviations of each. Be sure to annualize them. Plot the means on the y-axis and the standard deviations on the x-axis. In your report, only include the final plot."
   ]
  },
  {
   "cell_type": "code",
   "execution_count": 1,
   "metadata": {},
   "outputs": [],
   "source": [
    "import numpy as np\n",
    "import pandas as pd\n",
    "import statsmodels.formula.api as smf\n",
    "import statsmodels.api as sm\n",
    "import matplotlib.pyplot as plt\n",
    "import seaborn as sns\n",
    "sns.set()\n",
    "\n",
    "pd.set_option('display.float_format', lambda x: '%.4f' % x)"
   ]
  },
  {
   "cell_type": "code",
   "execution_count": 2,
   "metadata": {},
   "outputs": [],
   "source": [
    "path = 'factor_model_data_with_momentum.xls'\n",
    "df_factor = pd.read_excel(path, sheet_name='Factor Data').set_index('Date')\n",
    "df_factor['rx_mkt'] = df_factor['r_mkt'] - df_factor['r_f']\n",
    "\n",
    "temp = pd.read_excel(path, sheet_name='Industry Portfolios').set_index('Date')\n",
    "temp.columns = temp.columns.str.strip()\n",
    "ind_portfolios_names = temp.columns\n",
    "df_industries = df_factor.join(temp)\n",
    "\n",
    "temp = pd.read_excel(path, sheet_name='Momentum Deciles').set_index('Date')\n",
    "temp.columns = temp.columns.str.strip()\n",
    "momentum_portfolio_names = temp.columns\n",
    "df_momentum = df_factor.join(temp)\n",
    "\n",
    "temp = pd.read_excel(path, sheet_name='Momentum by Size').set_index('Date')\n",
    "temp.columns = temp.columns.str.strip()\n",
    "mom_size_portfolio_names = temp.columns\n",
    "df_mom_size = df_factor.join(temp)\n",
    "\n",
    "del temp"
   ]
  },
  {
   "cell_type": "code",
   "execution_count": 3,
   "metadata": {},
   "outputs": [
    {
     "name": "stderr",
     "output_type": "stream",
     "text": [
      "C:\\Users\\Jeremy\\Miniconda3\\lib\\site-packages\\numpy\\core\\fromnumeric.py:2495: FutureWarning: Method .ptp is deprecated and will be removed in a future version. Use numpy.ptp instead.\n",
      "  return ptp(axis=axis, out=out, **kwargs)\n"
     ]
    }
   ],
   "source": [
    "columns = df_industries[ind_portfolios_names].columns\n",
    "reg_stats = pd.DataFrame(index=columns, \n",
    "                         columns=['beta', 'mean', 'std', 'treynor_ratio', 'sharpe_ratio'],\n",
    "                         dtype=np.float)\n",
    "\n",
    "for col in columns:\n",
    "    lhs = df_industries[col]\n",
    "    rhs = sm.add_constant(df_industries['rx_mkt'])\n",
    "    res = sm.OLS(lhs, rhs, missing='drop').fit()\n",
    "    reg_stats.loc[col, 'alpha'] = res.params['const']\n",
    "    reg_stats.loc[col, 'beta'] = res.params['rx_mkt']\n",
    "    reg_stats.loc[col, 'mean'] = df_industries[col].mean() * 12\n",
    "    reg_stats.loc[col, 'std'] = df_industries[col].std() * np.sqrt(12)\n",
    "    reg_stats.loc[col, 'skewness'] = df_industries[col].skew()\n",
    "    reg_stats.loc[col, 'std_residuals'] = res.resid.std()\n",
    "    reg_stats.loc[col, 'treynor_ratio'] = reg_stats.loc[col, 'mean'] / reg_stats.loc[col, 'beta']\n",
    "    reg_stats.loc[col, 'sharpe_ratio'] = reg_stats.loc[col, 'mean'] / reg_stats.loc[col, 'beta']"
   ]
  },
  {
   "cell_type": "code",
   "execution_count": 4,
   "metadata": {},
   "outputs": [
    {
     "data": {
      "image/png": "[encoded data removed]",
      "text/plain": [
       "<Figure size 432x288 with 1 Axes>"
      ]
     },
     "metadata": {
      "needs_background": "light"
     },
     "output_type": "display_data"
    }
   ],
   "source": [
    "plt.plot(reg_stats['mean'], reg_stats['std'], '.')\n",
    "plt.ylabel('Annualized Mean Return')\n",
    "plt.xlabel('Annualized Std')\n",
    "plt.title('Means and Volatilities of Industry Portfolios');"
   ]
  },
  {
   "cell_type": "markdown",
   "metadata": {},
   "source": [
    "# Problem 2: (10 pts)\n",
    "\n",
    "Run single factor time series regressions for each of the 30 portfolios, using\n",
    "excess market returns as the single factor. Compute the Treynor ratio for each\n",
    "industry portfolio. Report the 5 portfolios with the highest Treynor ratio\n",
    "and the 5 portfolios with the lowest Treynor ratio. \n",
    "Additionally, report the average Treynor\n",
    "ratio among these portfolios."
   ]
  },
  {
   "cell_type": "code",
   "execution_count": 5,
   "metadata": {},
   "outputs": [
    {
     "data": {
      "text/plain": [
       "Smoke   0.2176\n",
       "Servs   0.1799\n",
       "Food    0.1596\n",
       "Telcm   0.1572\n",
       "Hlth    0.1553\n",
       "Name: treynor_ratio, dtype: float64"
      ]
     },
     "execution_count": 5,
     "metadata": {},
     "output_type": "execute_result"
    }
   ],
   "source": [
    "reg_stats['treynor_ratio'].nlargest(5)"
   ]
  },
  {
   "cell_type": "code",
   "execution_count": 6,
   "metadata": {},
   "outputs": [
    {
     "data": {
      "text/plain": [
       "Steel   0.0781\n",
       "Other   0.0899\n",
       "Whlsl   0.0945\n",
       "Coal    0.0956\n",
       "Books   0.0959\n",
       "Name: treynor_ratio, dtype: float64"
      ]
     },
     "execution_count": 6,
     "metadata": {},
     "output_type": "execute_result"
    }
   ],
   "source": [
    "reg_stats['treynor_ratio'].nsmallest(5)"
   ]
  },
  {
   "cell_type": "code",
   "execution_count": 7,
   "metadata": {},
   "outputs": [
    {
     "name": "stdout",
     "output_type": "stream",
     "text": [
      "Average Treynor ratio is 0.12370213082165933\n"
     ]
    }
   ],
   "source": [
    "print(f\"Average Treynor ratio is {reg_stats['treynor_ratio'].mean()}\")"
   ]
  },
  {
   "cell_type": "markdown",
   "metadata": {},
   "source": [
    "# Problem 3: (10 pts) Plot MV efficient frontier\n",
    "\n",
    "Suppose that you can only invest in the 30 industry portfolios listed in the second tab. You cannot invest in a risky security. Use the appropriate formula from the notes to construct and plot the mean-variance efficient frontier. Your plot should resemble the one shown below. It should have the axes appropriately labelled. (Though, you do NOT need to match the styling.) Be sure to annualize all statistics.\n",
    "\n",
    "![mean_variance_efficient_frontier](mean_variance_efficient_frontier.png)\n"
   ]
  },
  {
   "cell_type": "markdown",
   "metadata": {},
   "source": [
    "### Solution\n",
    "\n",
    "The relevant formulas from the notes are these.\n",
    "\n",
    "$$\n",
    "\\omega^* = \\delta \\omega^\\text{t} + (1-\\delta) \\omega^\\text{v}\n",
    "$$\n",
    "\n",
    "$$\n",
    "\\omega^\\text{t} \\equiv \\left( \\frac{1}{\\mathbf1 \\mathbf \\Sigma^{-1} \\mathbf \\mu}\n",
    "\\right) \\mathbf \\Sigma^{-1} \\mathbf \\mu\n",
    "$$\n",
    "\n",
    "$$\n",
    "\\omega^\\text{v} \\equiv \\left( \\frac{1}{\\mathbf 1 \\mathbf \\Sigma^{-1} \\mathbf 1}\n",
    "\\right) \\mathbf \\Sigma^{-1} \\mathbf \\mu\n",
    "$$\n",
    "\n",
    "The mean-variance efficient portfolios are those $\\omega^*$ with $\\delta \\in [0,\\infty)$."
   ]
  },
  {
   "cell_type": "code",
   "execution_count": 8,
   "metadata": {},
   "outputs": [],
   "source": [
    "rets = df_industries[ind_portfolios_names]\n",
    "mu = rets.mean()\n",
    "Sigma = rets.cov()\n",
    "\n",
    "N = 30\n",
    "Sigma_inv = np.linalg.inv(Sigma)\n",
    "omega_tangecy = Sigma_inv @ mu / (np.ones(N) @ Sigma_inv @ mu)\n",
    "omega_v = Sigma_inv @ mu / (np.ones(N) @ Sigma_inv @ np.ones(N))"
   ]
  },
  {
   "cell_type": "code",
   "execution_count": 9,
   "metadata": {},
   "outputs": [],
   "source": [
    "num_points = 100\n",
    "means = np.zeros(num_points)\n",
    "stds = np.zeros(num_points)\n",
    "\n",
    "for i, delta in enumerate(np.linspace(0, 1.3, num_points)):\n",
    "    omega_star = delta * omega_tangecy + (1-delta) * omega_v\n",
    "    mean = 12 * omega_star @ mu\n",
    "    std = np.sqrt(12) * omega_star @ Sigma @ omega_star\n",
    "    means[i] = mean\n",
    "    stds[i] = std"
   ]
  },
  {
   "cell_type": "code",
   "execution_count": 10,
   "metadata": {},
   "outputs": [
    {
     "data": {
      "image/png": "[encoded data removed]",
      "text/plain": [
       "<Figure size 432x288 with 1 Axes>"
      ]
     },
     "metadata": {
      "needs_background": "light"
     },
     "output_type": "display_data"
    }
   ],
   "source": [
    "plt.plot(stds, means)\n",
    "plt.title(\"MV Frontier\")\n",
    "plt.ylabel(\"Annualized Mean Return\")\n",
    "plt.xlabel(\"Annualized Standard Deviation\");\n",
    "plt.savefig('mean_variance_efficient_frontier.png', dpi=300)"
   ]
  },
  {
   "cell_type": "markdown",
   "metadata": {},
   "source": [
    "# Problem 4: "
   ]
  },
  {
   "cell_type": "markdown",
   "metadata": {},
   "source": [
    "## (a) (5 pts)\n",
    "\n",
    "Which industry has the highest skewness? List only the top 5 industries. List them in order from highest to lowest. Report the industry label and the skewness statistic associated with each. Don't scale skewness."
   ]
  },
  {
   "cell_type": "code",
   "execution_count": 11,
   "metadata": {},
   "outputs": [
    {
     "data": {
      "text/plain": [
       "Coal    2.0748\n",
       "Beer    1.7632\n",
       "Steel   1.2614\n",
       "Autos   1.1448\n",
       "Servs   1.1407\n",
       "Name: skewness, dtype: float64"
      ]
     },
     "execution_count": 11,
     "metadata": {},
     "output_type": "execute_result"
    }
   ],
   "source": [
    "reg_stats.skewness.nlargest(5)"
   ]
  },
  {
   "cell_type": "markdown",
   "metadata": {},
   "source": [
    "## (b) (5 pts)\n",
    "\n",
    "Compute the 10\\% level, 1-month Value-at-Risk of the Oil industry portfolio in terms of returns. Do NOT annualize the return statistic here. Give in terms of monthly returns."
   ]
  },
  {
   "cell_type": "code",
   "execution_count": 12,
   "metadata": {},
   "outputs": [
    {
     "data": {
      "text/plain": [
       "-0.058089999999999996"
      ]
     },
     "execution_count": 12,
     "metadata": {},
     "output_type": "execute_result"
    }
   ],
   "source": [
    "oil = df_industries['Oil']\n",
    "VaR = oil.quantile(0.10)\n",
    "VaR"
   ]
  },
  {
   "cell_type": "markdown",
   "metadata": {},
   "source": [
    "## (c) (5 pts)\n",
    "\n",
    "Compute the expected shortfall at the 1-month, 10\\% level of the Oil industry portfolio. Again, do this in terms of returns. (The mean of returns that are less than or equal to the 10th percentile.)"
   ]
  },
  {
   "cell_type": "code",
   "execution_count": 13,
   "metadata": {},
   "outputs": [
    {
     "data": {
      "text/plain": [
       "-0.09826517857142858"
      ]
     },
     "execution_count": 13,
     "metadata": {},
     "output_type": "execute_result"
    }
   ],
   "source": [
    "ES = oil[oil <= VaR].mean() \n",
    "ES"
   ]
  },
  {
   "cell_type": "markdown",
   "metadata": {},
   "source": [
    "## (d) (5 pts)\n",
    "\n",
    "Regress the oil industry portfolio on the excess returns of the market.\n",
    "Compute the information ratio resulting from this regression."
   ]
  },
  {
   "cell_type": "code",
   "execution_count": 14,
   "metadata": {},
   "outputs": [],
   "source": [
    "IR_list = reg_stats['alpha'] / reg_stats['std_residuals']"
   ]
  },
  {
   "cell_type": "code",
   "execution_count": 15,
   "metadata": {},
   "outputs": [
    {
     "data": {
      "text/plain": [
       "0.16565374551814852"
      ]
     },
     "execution_count": 15,
     "metadata": {},
     "output_type": "execute_result"
    }
   ],
   "source": [
    "IR_list['Oil']"
   ]
  }
 ],
 "metadata": {
  "kernelspec": {
   "display_name": "Python 3",
   "language": "python",
   "name": "python3"
  },
  "language_info": {
   "codemirror_mode": {
    "name": "ipython",
    "version": 3
   },
   "file_extension": ".py",
   "mimetype": "text/x-python",
   "name": "python",
   "nbconvert_exporter": "python",
   "pygments_lexer": "ipython3",
   "version": "3.7.3"
  }
 },
 "nbformat": 4,
 "nbformat_minor": 2
}
