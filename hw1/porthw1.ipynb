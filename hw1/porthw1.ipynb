{
 "cells": [
  {
   "cell_type": "code",
   "execution_count": 1,
   "metadata": {},
   "outputs": [],
   "source": [
    "import numpy as np\n",
    "import pandas as pd\n",
    "import matplotlib.pyplot as plt\n",
    "plt.rcParams[\"figure.figsize\"] = (16,10)\n",
    "plt.style.use(\"~/.dracula.mplstyle\")\n",
    "import seaborn as sns"
   ]
  },
  {
   "cell_type": "markdown",
   "metadata": {},
   "source": [
    "#### Loading Data"
   ]
  },
  {
   "cell_type": "code",
   "execution_count": 2,
   "metadata": {},
   "outputs": [
    {
     "name": "stdout",
     "output_type": "stream",
     "text": [
      "['descriptions', 'total returns', 'excess returns']\n"
     ]
    },
    {
     "data": {
      "text/html": [
       "<div>\n",
       "<style scoped>\n",
       "    .dataframe tbody tr th:only-of-type {\n",
       "        vertical-align: middle;\n",
       "    }\n",
       "\n",
       "    .dataframe tbody tr th {\n",
       "        vertical-align: top;\n",
       "    }\n",
       "\n",
       "    .dataframe thead th {\n",
       "        text-align: right;\n",
       "    }\n",
       "</style>\n",
       "<table border=\"1\" class=\"dataframe\">\n",
       "  <thead>\n",
       "    <tr style=\"text-align: right;\">\n",
       "      <th></th>\n",
       "      <th>BWX</th>\n",
       "      <th>DBC</th>\n",
       "      <th>EEM</th>\n",
       "      <th>EFA</th>\n",
       "      <th>HYG</th>\n",
       "      <th>IEF</th>\n",
       "      <th>IYR</th>\n",
       "      <th>PSP</th>\n",
       "      <th>QAI</th>\n",
       "      <th>SPY</th>\n",
       "      <th>TIP</th>\n",
       "    </tr>\n",
       "    <tr>\n",
       "      <th>Date</th>\n",
       "      <th></th>\n",
       "      <th></th>\n",
       "      <th></th>\n",
       "      <th></th>\n",
       "      <th></th>\n",
       "      <th></th>\n",
       "      <th></th>\n",
       "      <th></th>\n",
       "      <th></th>\n",
       "      <th></th>\n",
       "      <th></th>\n",
       "    </tr>\n",
       "  </thead>\n",
       "  <tbody>\n",
       "    <tr>\n",
       "      <th>2009-04-30</th>\n",
       "      <td>0.008439</td>\n",
       "      <td>-0.001554</td>\n",
       "      <td>0.155029</td>\n",
       "      <td>0.114637</td>\n",
       "      <td>0.137906</td>\n",
       "      <td>-0.028005</td>\n",
       "      <td>0.295597</td>\n",
       "      <td>0.229649</td>\n",
       "      <td>0.022329</td>\n",
       "      <td>0.098792</td>\n",
       "      <td>-0.018505</td>\n",
       "    </tr>\n",
       "    <tr>\n",
       "      <th>2009-05-31</th>\n",
       "      <td>0.054144</td>\n",
       "      <td>0.163135</td>\n",
       "      <td>0.159872</td>\n",
       "      <td>0.132390</td>\n",
       "      <td>0.029027</td>\n",
       "      <td>-0.020301</td>\n",
       "      <td>0.023200</td>\n",
       "      <td>0.054364</td>\n",
       "      <td>0.028337</td>\n",
       "      <td>0.058925</td>\n",
       "      <td>0.020438</td>\n",
       "    </tr>\n",
       "    <tr>\n",
       "      <th>2009-06-30</th>\n",
       "      <td>0.004549</td>\n",
       "      <td>-0.026858</td>\n",
       "      <td>-0.023094</td>\n",
       "      <td>-0.014648</td>\n",
       "      <td>0.032918</td>\n",
       "      <td>-0.006171</td>\n",
       "      <td>-0.025463</td>\n",
       "      <td>0.044849</td>\n",
       "      <td>-0.004036</td>\n",
       "      <td>-0.001254</td>\n",
       "      <td>0.001382</td>\n",
       "    </tr>\n",
       "    <tr>\n",
       "      <th>2009-07-31</th>\n",
       "      <td>0.031311</td>\n",
       "      <td>0.018595</td>\n",
       "      <td>0.110173</td>\n",
       "      <td>0.100442</td>\n",
       "      <td>0.069217</td>\n",
       "      <td>0.008345</td>\n",
       "      <td>0.105826</td>\n",
       "      <td>0.143274</td>\n",
       "      <td>0.015353</td>\n",
       "      <td>0.074633</td>\n",
       "      <td>0.000906</td>\n",
       "    </tr>\n",
       "    <tr>\n",
       "      <th>2009-08-31</th>\n",
       "      <td>0.007193</td>\n",
       "      <td>-0.040800</td>\n",
       "      <td>-0.013571</td>\n",
       "      <td>0.044595</td>\n",
       "      <td>-0.017405</td>\n",
       "      <td>0.007198</td>\n",
       "      <td>0.131503</td>\n",
       "      <td>0.032977</td>\n",
       "      <td>-0.004587</td>\n",
       "      <td>0.036505</td>\n",
       "      <td>0.007978</td>\n",
       "    </tr>\n",
       "  </tbody>\n",
       "</table>\n",
       "</div>"
      ],
      "text/plain": [
       "                 BWX       DBC       EEM       EFA       HYG       IEF  \\\n",
       "Date                                                                     \n",
       "2009-04-30  0.008439 -0.001554  0.155029  0.114637  0.137906 -0.028005   \n",
       "2009-05-31  0.054144  0.163135  0.159872  0.132390  0.029027 -0.020301   \n",
       "2009-06-30  0.004549 -0.026858 -0.023094 -0.014648  0.032918 -0.006171   \n",
       "2009-07-31  0.031311  0.018595  0.110173  0.100442  0.069217  0.008345   \n",
       "2009-08-31  0.007193 -0.040800 -0.013571  0.044595 -0.017405  0.007198   \n",
       "\n",
       "                 IYR       PSP       QAI       SPY       TIP  \n",
       "Date                                                          \n",
       "2009-04-30  0.295597  0.229649  0.022329  0.098792 -0.018505  \n",
       "2009-05-31  0.023200  0.054364  0.028337  0.058925  0.020438  \n",
       "2009-06-30 -0.025463  0.044849 -0.004036 -0.001254  0.001382  \n",
       "2009-07-31  0.105826  0.143274  0.015353  0.074633  0.000906  \n",
       "2009-08-31  0.131503  0.032977 -0.004587  0.036505  0.007978  "
      ]
     },
     "execution_count": 2,
     "metadata": {},
     "output_type": "execute_result"
    }
   ],
   "source": [
    "xlsx = pd.ExcelFile(\"multi_asset_etf_data.xlsx\")\n",
    "print(xlsx.sheet_names)\n",
    "ex = xlsx.parse(xlsx.sheet_names[2])\n",
    "ex.set_index(\"Date\", inplace=True)\n",
    "ex.head()"
   ]
  },
  {
   "cell_type": "code",
   "execution_count": 3,
   "metadata": {
    "tags": []
   },
   "outputs": [
    {
     "data": {
      "text/html": [
       "<div>\n",
       "<style scoped>\n",
       "    .dataframe tbody tr th:only-of-type {\n",
       "        vertical-align: middle;\n",
       "    }\n",
       "\n",
       "    .dataframe tbody tr th {\n",
       "        vertical-align: top;\n",
       "    }\n",
       "\n",
       "    .dataframe thead th {\n",
       "        text-align: right;\n",
       "    }\n",
       "</style>\n",
       "<table border=\"1\" class=\"dataframe\">\n",
       "  <thead>\n",
       "    <tr style=\"text-align: right;\">\n",
       "      <th></th>\n",
       "      <th>Unnamed: 0</th>\n",
       "      <th>ETF Description</th>\n",
       "    </tr>\n",
       "  </thead>\n",
       "  <tbody>\n",
       "    <tr>\n",
       "      <th>0</th>\n",
       "      <td>SPY</td>\n",
       "      <td>Domestic Equity SPDR S&amp;P500</td>\n",
       "    </tr>\n",
       "    <tr>\n",
       "      <th>1</th>\n",
       "      <td>EFA</td>\n",
       "      <td>Foreign Equity iShares EAFE</td>\n",
       "    </tr>\n",
       "    <tr>\n",
       "      <th>2</th>\n",
       "      <td>EEM</td>\n",
       "      <td>iShares Emerging Markets</td>\n",
       "    </tr>\n",
       "    <tr>\n",
       "      <th>3</th>\n",
       "      <td>PSP</td>\n",
       "      <td>Private Equity Invesco Global Private Equity</td>\n",
       "    </tr>\n",
       "    <tr>\n",
       "      <th>4</th>\n",
       "      <td>QAI</td>\n",
       "      <td>Absolute Return IQ Multi-Strat</td>\n",
       "    </tr>\n",
       "    <tr>\n",
       "      <th>5</th>\n",
       "      <td>HYG</td>\n",
       "      <td>High Yield iShares High Yield Corporate Bond</td>\n",
       "    </tr>\n",
       "    <tr>\n",
       "      <th>6</th>\n",
       "      <td>DBC</td>\n",
       "      <td>Invesco DB Commodity Index Tracking Fund</td>\n",
       "    </tr>\n",
       "    <tr>\n",
       "      <th>7</th>\n",
       "      <td>IYR</td>\n",
       "      <td>Real Estate iShares US Real Estate</td>\n",
       "    </tr>\n",
       "    <tr>\n",
       "      <th>8</th>\n",
       "      <td>IEF</td>\n",
       "      <td>Domestic Bonds iShares 7-10 Year Treasury</td>\n",
       "    </tr>\n",
       "    <tr>\n",
       "      <th>9</th>\n",
       "      <td>BWX</td>\n",
       "      <td>Foreign Bonds SPDR Bloomberg Barclay Internati...</td>\n",
       "    </tr>\n",
       "    <tr>\n",
       "      <th>10</th>\n",
       "      <td>TIP</td>\n",
       "      <td>Inflation-Indexed iShares TIPS Bond</td>\n",
       "    </tr>\n",
       "    <tr>\n",
       "      <th>11</th>\n",
       "      <td>SHV</td>\n",
       "      <td>iShares Short Treasury Bond</td>\n",
       "    </tr>\n",
       "  </tbody>\n",
       "</table>\n",
       "</div>"
      ],
      "text/plain": [
       "   Unnamed: 0                                    ETF Description\n",
       "0         SPY                        Domestic Equity SPDR S&P500\n",
       "1         EFA                        Foreign Equity iShares EAFE\n",
       "2         EEM                           iShares Emerging Markets\n",
       "3         PSP       Private Equity Invesco Global Private Equity\n",
       "4         QAI                     Absolute Return IQ Multi-Strat\n",
       "5         HYG       High Yield iShares High Yield Corporate Bond\n",
       "6         DBC           Invesco DB Commodity Index Tracking Fund\n",
       "7         IYR                 Real Estate iShares US Real Estate\n",
       "8         IEF          Domestic Bonds iShares 7-10 Year Treasury\n",
       "9         BWX  Foreign Bonds SPDR Bloomberg Barclay Internati...\n",
       "10        TIP                Inflation-Indexed iShares TIPS Bond\n",
       "11        SHV                        iShares Short Treasury Bond"
      ]
     },
     "execution_count": 3,
     "metadata": {},
     "output_type": "execute_result"
    }
   ],
   "source": [
    "xlsx.parse(xlsx.sheet_names[0])"
   ]
  },
  {
   "cell_type": "markdown",
   "metadata": {
    "tags": []
   },
   "source": [
    "# 1 Summary Statistics\n",
    "(a) Calculate and display the mean and volatility of each asset's excess return (Recall we use volatility to refer to standard deviation.)\n",
    "\n",
    "(b) Which assets have the best and worst Sharpe ratios?"
   ]
  },
  {
   "cell_type": "code",
   "execution_count": 4,
   "metadata": {},
   "outputs": [
    {
     "name": "stdout",
     "output_type": "stream",
     "text": [
      "Monthly Statistics:\n"
     ]
    },
    {
     "data": {
      "text/html": [
       "<div>\n",
       "<style scoped>\n",
       "    .dataframe tbody tr th:only-of-type {\n",
       "        vertical-align: middle;\n",
       "    }\n",
       "\n",
       "    .dataframe tbody tr th {\n",
       "        vertical-align: top;\n",
       "    }\n",
       "\n",
       "    .dataframe thead th {\n",
       "        text-align: right;\n",
       "    }\n",
       "</style>\n",
       "<table border=\"1\" class=\"dataframe\">\n",
       "  <thead>\n",
       "    <tr style=\"text-align: right;\">\n",
       "      <th></th>\n",
       "      <th>BWX</th>\n",
       "      <th>DBC</th>\n",
       "      <th>EEM</th>\n",
       "      <th>EFA</th>\n",
       "      <th>HYG</th>\n",
       "      <th>IEF</th>\n",
       "      <th>IYR</th>\n",
       "      <th>PSP</th>\n",
       "      <th>QAI</th>\n",
       "      <th>SPY</th>\n",
       "      <th>TIP</th>\n",
       "    </tr>\n",
       "  </thead>\n",
       "  <tbody>\n",
       "    <tr>\n",
       "      <th>count</th>\n",
       "      <td>149.000000</td>\n",
       "      <td>149.000000</td>\n",
       "      <td>149.000000</td>\n",
       "      <td>149.000000</td>\n",
       "      <td>149.000000</td>\n",
       "      <td>149.000000</td>\n",
       "      <td>149.000000</td>\n",
       "      <td>149.000000</td>\n",
       "      <td>149.000000</td>\n",
       "      <td>149.000000</td>\n",
       "      <td>149.000000</td>\n",
       "    </tr>\n",
       "    <tr>\n",
       "      <th>mean</th>\n",
       "      <td>0.001735</td>\n",
       "      <td>0.000838</td>\n",
       "      <td>0.007759</td>\n",
       "      <td>0.008270</td>\n",
       "      <td>0.006766</td>\n",
       "      <td>0.002785</td>\n",
       "      <td>0.013693</td>\n",
       "      <td>0.014187</td>\n",
       "      <td>0.002316</td>\n",
       "      <td>0.013742</td>\n",
       "      <td>0.003104</td>\n",
       "    </tr>\n",
       "    <tr>\n",
       "      <th>std</th>\n",
       "      <td>0.021450</td>\n",
       "      <td>0.051190</td>\n",
       "      <td>0.056635</td>\n",
       "      <td>0.046569</td>\n",
       "      <td>0.024823</td>\n",
       "      <td>0.016424</td>\n",
       "      <td>0.051986</td>\n",
       "      <td>0.061607</td>\n",
       "      <td>0.013799</td>\n",
       "      <td>0.040174</td>\n",
       "      <td>0.013034</td>\n",
       "    </tr>\n",
       "    <tr>\n",
       "      <th>min</th>\n",
       "      <td>-0.068410</td>\n",
       "      <td>-0.177562</td>\n",
       "      <td>-0.179083</td>\n",
       "      <td>-0.145227</td>\n",
       "      <td>-0.104441</td>\n",
       "      <td>-0.043973</td>\n",
       "      <td>-0.200485</td>\n",
       "      <td>-0.278880</td>\n",
       "      <td>-0.060508</td>\n",
       "      <td>-0.129032</td>\n",
       "      <td>-0.041842</td>\n",
       "    </tr>\n",
       "    <tr>\n",
       "      <th>25%</th>\n",
       "      <td>-0.011570</td>\n",
       "      <td>-0.030398</td>\n",
       "      <td>-0.029046</td>\n",
       "      <td>-0.021504</td>\n",
       "      <td>-0.004739</td>\n",
       "      <td>-0.006556</td>\n",
       "      <td>-0.011933</td>\n",
       "      <td>-0.016986</td>\n",
       "      <td>-0.005045</td>\n",
       "      <td>-0.003919</td>\n",
       "      <td>-0.004917</td>\n",
       "    </tr>\n",
       "    <tr>\n",
       "      <th>50%</th>\n",
       "      <td>0.003018</td>\n",
       "      <td>-0.000473</td>\n",
       "      <td>0.003909</td>\n",
       "      <td>0.009207</td>\n",
       "      <td>0.005246</td>\n",
       "      <td>0.000700</td>\n",
       "      <td>0.010836</td>\n",
       "      <td>0.016745</td>\n",
       "      <td>0.002396</td>\n",
       "      <td>0.017545</td>\n",
       "      <td>0.003282</td>\n",
       "    </tr>\n",
       "    <tr>\n",
       "      <th>75%</th>\n",
       "      <td>0.014511</td>\n",
       "      <td>0.037292</td>\n",
       "      <td>0.038664</td>\n",
       "      <td>0.034870</td>\n",
       "      <td>0.016718</td>\n",
       "      <td>0.011433</td>\n",
       "      <td>0.040476</td>\n",
       "      <td>0.045995</td>\n",
       "      <td>0.009403</td>\n",
       "      <td>0.036453</td>\n",
       "      <td>0.010239</td>\n",
       "    </tr>\n",
       "    <tr>\n",
       "      <th>max</th>\n",
       "      <td>0.061232</td>\n",
       "      <td>0.163135</td>\n",
       "      <td>0.162804</td>\n",
       "      <td>0.142902</td>\n",
       "      <td>0.137906</td>\n",
       "      <td>0.046105</td>\n",
       "      <td>0.295597</td>\n",
       "      <td>0.229649</td>\n",
       "      <td>0.033957</td>\n",
       "      <td>0.126767</td>\n",
       "      <td>0.039559</td>\n",
       "    </tr>\n",
       "  </tbody>\n",
       "</table>\n",
       "</div>"
      ],
      "text/plain": [
       "              BWX         DBC         EEM         EFA         HYG         IEF  \\\n",
       "count  149.000000  149.000000  149.000000  149.000000  149.000000  149.000000   \n",
       "mean     0.001735    0.000838    0.007759    0.008270    0.006766    0.002785   \n",
       "std      0.021450    0.051190    0.056635    0.046569    0.024823    0.016424   \n",
       "min     -0.068410   -0.177562   -0.179083   -0.145227   -0.104441   -0.043973   \n",
       "25%     -0.011570   -0.030398   -0.029046   -0.021504   -0.004739   -0.006556   \n",
       "50%      0.003018   -0.000473    0.003909    0.009207    0.005246    0.000700   \n",
       "75%      0.014511    0.037292    0.038664    0.034870    0.016718    0.011433   \n",
       "max      0.061232    0.163135    0.162804    0.142902    0.137906    0.046105   \n",
       "\n",
       "              IYR         PSP         QAI         SPY         TIP  \n",
       "count  149.000000  149.000000  149.000000  149.000000  149.000000  \n",
       "mean     0.013693    0.014187    0.002316    0.013742    0.003104  \n",
       "std      0.051986    0.061607    0.013799    0.040174    0.013034  \n",
       "min     -0.200485   -0.278880   -0.060508   -0.129032   -0.041842  \n",
       "25%     -0.011933   -0.016986   -0.005045   -0.003919   -0.004917  \n",
       "50%      0.010836    0.016745    0.002396    0.017545    0.003282  \n",
       "75%      0.040476    0.045995    0.009403    0.036453    0.010239  \n",
       "max      0.295597    0.229649    0.033957    0.126767    0.039559  "
      ]
     },
     "execution_count": 4,
     "metadata": {},
     "output_type": "execute_result"
    }
   ],
   "source": [
    "ex_des = ex.describe()\n",
    "print(\"Monthly Statistics:\")\n",
    "ex_des"
   ]
  },
  {
   "cell_type": "code",
   "execution_count": 5,
   "metadata": {},
   "outputs": [
    {
     "name": "stdout",
     "output_type": "stream",
     "text": [
      "Annual Statistics:\n"
     ]
    },
    {
     "data": {
      "text/html": [
       "<div>\n",
       "<style scoped>\n",
       "    .dataframe tbody tr th:only-of-type {\n",
       "        vertical-align: middle;\n",
       "    }\n",
       "\n",
       "    .dataframe tbody tr th {\n",
       "        vertical-align: top;\n",
       "    }\n",
       "\n",
       "    .dataframe thead th {\n",
       "        text-align: right;\n",
       "    }\n",
       "</style>\n",
       "<table border=\"1\" class=\"dataframe\">\n",
       "  <thead>\n",
       "    <tr style=\"text-align: right;\">\n",
       "      <th></th>\n",
       "      <th>BWX</th>\n",
       "      <th>DBC</th>\n",
       "      <th>EEM</th>\n",
       "      <th>EFA</th>\n",
       "      <th>HYG</th>\n",
       "      <th>IEF</th>\n",
       "      <th>IYR</th>\n",
       "      <th>PSP</th>\n",
       "      <th>QAI</th>\n",
       "      <th>SPY</th>\n",
       "      <th>TIP</th>\n",
       "    </tr>\n",
       "  </thead>\n",
       "  <tbody>\n",
       "    <tr>\n",
       "      <th>mean</th>\n",
       "      <td>0.020819</td>\n",
       "      <td>0.010053</td>\n",
       "      <td>0.093103</td>\n",
       "      <td>0.099239</td>\n",
       "      <td>0.081193</td>\n",
       "      <td>0.033424</td>\n",
       "      <td>0.164311</td>\n",
       "      <td>0.170243</td>\n",
       "      <td>0.027795</td>\n",
       "      <td>0.164907</td>\n",
       "      <td>0.037242</td>\n",
       "    </tr>\n",
       "    <tr>\n",
       "      <th>std</th>\n",
       "      <td>0.074304</td>\n",
       "      <td>0.177327</td>\n",
       "      <td>0.196190</td>\n",
       "      <td>0.161319</td>\n",
       "      <td>0.085989</td>\n",
       "      <td>0.056895</td>\n",
       "      <td>0.180085</td>\n",
       "      <td>0.213412</td>\n",
       "      <td>0.047800</td>\n",
       "      <td>0.139166</td>\n",
       "      <td>0.045151</td>\n",
       "    </tr>\n",
       "    <tr>\n",
       "      <th>sharpe</th>\n",
       "      <td>0.280189</td>\n",
       "      <td>0.056689</td>\n",
       "      <td>0.474556</td>\n",
       "      <td>0.615174</td>\n",
       "      <td>0.944231</td>\n",
       "      <td>0.587473</td>\n",
       "      <td>0.912408</td>\n",
       "      <td>0.797721</td>\n",
       "      <td>0.581490</td>\n",
       "      <td>1.184963</td>\n",
       "      <td>0.824835</td>\n",
       "    </tr>\n",
       "  </tbody>\n",
       "</table>\n",
       "</div>"
      ],
      "text/plain": [
       "             BWX       DBC       EEM       EFA       HYG       IEF       IYR  \\\n",
       "mean    0.020819  0.010053  0.093103  0.099239  0.081193  0.033424  0.164311   \n",
       "std     0.074304  0.177327  0.196190  0.161319  0.085989  0.056895  0.180085   \n",
       "sharpe  0.280189  0.056689  0.474556  0.615174  0.944231  0.587473  0.912408   \n",
       "\n",
       "             PSP       QAI       SPY       TIP  \n",
       "mean    0.170243  0.027795  0.164907  0.037242  \n",
       "std     0.213412  0.047800  0.139166  0.045151  \n",
       "sharpe  0.797721  0.581490  1.184963  0.824835  "
      ]
     },
     "execution_count": 5,
     "metadata": {},
     "output_type": "execute_result"
    }
   ],
   "source": [
    "def portstats(v, nper=1):\n",
    "    try:\n",
    "        c = v.columns\n",
    "    except AttributeError:\n",
    "        c = [\"Portfolio\"]\n",
    "    \n",
    "    mu = v.mean() * nper\n",
    "    sig = v.std() * np.sqrt(nper)\n",
    "    vshaped = pd.DataFrame([mu, sig, mu / sig],\n",
    "                           index=[\"mean\", \"std\", \"sharpe\"], columns=c)\n",
    "    return vshaped\n",
    "\n",
    "print(\"Annual Statistics:\")\n",
    "stats = portstats(ex, 12)\n",
    "stats"
   ]
  },
  {
   "cell_type": "code",
   "execution_count": 6,
   "metadata": {},
   "outputs": [
    {
     "name": "stdout",
     "output_type": "stream",
     "text": [
      "The asset with the BEST Sharpe Ratio is SPY.\n",
      "The asset with the WORST Sharpe Ratio is DBC\n"
     ]
    }
   ],
   "source": [
    "best = stats.T[\"sharpe\"].idxmax()\n",
    "worst = stats.T[\"sharpe\"].idxmin()\n",
    "\n",
    "print(f\"The asset with the BEST Sharpe Ratio is {best}.\")\n",
    "print(f\"The asset with the WORST Sharpe Ratio is {worst}\")"
   ]
  },
  {
   "cell_type": "markdown",
   "metadata": {},
   "source": [
    "# 2 Descriptive Analysis\n",
    "\n",
    "(a) Calculate the correlation matrix of the returns. Which pair has the highest correlation? And the lowest?"
   ]
  },
  {
   "cell_type": "code",
   "execution_count": 7,
   "metadata": {},
   "outputs": [
    {
     "data": {
      "text/plain": [
       "<AxesSubplot:>"
      ]
     },
     "execution_count": 7,
     "metadata": {},
     "output_type": "execute_result"
    },
    {
     "data": {
      "image/png": "[encoded data removed]",
      "text/plain": [
       "<Figure size 1152x720 with 2 Axes>"
      ]
     },
     "metadata": {},
     "output_type": "display_data"
    }
   ],
   "source": [
    "c = ex.corr()\n",
    "sns.heatmap(c, annot=True)"
   ]
  },
  {
   "cell_type": "code",
   "execution_count": 8,
   "metadata": {},
   "outputs": [
    {
     "name": "stdout",
     "output_type": "stream",
     "text": [
      "The pair with the HIGHEST correlation is ('EFA', 'PSP') at 0.9082411900568548\n",
      "The pair with the LOWEST  correlation is ('IEF', 'SPY') at -0.4199984313967293\n"
     ]
    }
   ],
   "source": [
    "cu = c.unstack().sort_values(ascending=False)\n",
    "cu = cu[c.shape[0]:]\n",
    "\n",
    "print(f\"The pair with the HIGHEST correlation is {cu.idxmax()} at {cu.max()}\")\n",
    "print(f\"The pair with the LOWEST  correlation is {cu.idxmin()} at {cu.min()}\")"
   ]
  },
  {
   "cell_type": "markdown",
   "metadata": {},
   "source": [
    "(b) How well have TIPS done in our sample? Have they outperformed domestic bonds? Foreign bonds?\n",
    "\n",
    "Tips demonstrated a low correlation with the majority of portfolio assets. TIPS show a somewhat significant linear correlation with BWX (Foreign Bonds) and IEF (Domestic Bonds), hitting 0.526797 and 0.649038. As per the annualized average returns, TIPS returned 3.7242%, more than BWX (relative return increase of 78.9%) and IEF (relative return increase of 11.4%). TIPS also demonstrated lower volatility than foreign or domestic bonds, yielding 0.045151 versus 0.074304 and 0.056895, respectively.\n",
    "\n",
    "\n",
    "(c) Based on the data, do TIPS seem to expand the investment opportunity set, implying that Harvard should consider them as a separate asset?\n",
    "\n",
    "To determine the characteristics of an asset class, one needs to look at the historical data used by HMC for expected future returns, standard deviation and correlation. From the correlation standpoint, TIPS are highly uncorrelated with the majority of the assets. The deviation is lower, and the returns are higher, but the number of data points is insufficient. HMC compared the performance of the assets that had a track record from 1989 to 1999 as opposed to 3 years of TIPS."
   ]
  },
  {
   "cell_type": "code",
   "execution_count": 9,
   "metadata": {},
   "outputs": [
    {
     "data": {
      "text/html": [
       "<div>\n",
       "<style scoped>\n",
       "    .dataframe tbody tr th:only-of-type {\n",
       "        vertical-align: middle;\n",
       "    }\n",
       "\n",
       "    .dataframe tbody tr th {\n",
       "        vertical-align: top;\n",
       "    }\n",
       "\n",
       "    .dataframe thead th {\n",
       "        text-align: right;\n",
       "    }\n",
       "</style>\n",
       "<table border=\"1\" class=\"dataframe\">\n",
       "  <thead>\n",
       "    <tr style=\"text-align: right;\">\n",
       "      <th></th>\n",
       "      <th>Unnamed: 0</th>\n",
       "      <th>ETF Description</th>\n",
       "    </tr>\n",
       "  </thead>\n",
       "  <tbody>\n",
       "    <tr>\n",
       "      <th>0</th>\n",
       "      <td>SPY</td>\n",
       "      <td>Domestic Equity SPDR S&amp;P500</td>\n",
       "    </tr>\n",
       "    <tr>\n",
       "      <th>1</th>\n",
       "      <td>EFA</td>\n",
       "      <td>Foreign Equity iShares EAFE</td>\n",
       "    </tr>\n",
       "    <tr>\n",
       "      <th>2</th>\n",
       "      <td>EEM</td>\n",
       "      <td>iShares Emerging Markets</td>\n",
       "    </tr>\n",
       "    <tr>\n",
       "      <th>3</th>\n",
       "      <td>PSP</td>\n",
       "      <td>Private Equity Invesco Global Private Equity</td>\n",
       "    </tr>\n",
       "    <tr>\n",
       "      <th>4</th>\n",
       "      <td>QAI</td>\n",
       "      <td>Absolute Return IQ Multi-Strat</td>\n",
       "    </tr>\n",
       "    <tr>\n",
       "      <th>5</th>\n",
       "      <td>HYG</td>\n",
       "      <td>High Yield iShares High Yield Corporate Bond</td>\n",
       "    </tr>\n",
       "    <tr>\n",
       "      <th>6</th>\n",
       "      <td>DBC</td>\n",
       "      <td>Invesco DB Commodity Index Tracking Fund</td>\n",
       "    </tr>\n",
       "    <tr>\n",
       "      <th>7</th>\n",
       "      <td>IYR</td>\n",
       "      <td>Real Estate iShares US Real Estate</td>\n",
       "    </tr>\n",
       "    <tr>\n",
       "      <th>8</th>\n",
       "      <td>IEF</td>\n",
       "      <td>Domestic Bonds iShares 7-10 Year Treasury</td>\n",
       "    </tr>\n",
       "    <tr>\n",
       "      <th>9</th>\n",
       "      <td>BWX</td>\n",
       "      <td>Foreign Bonds SPDR Bloomberg Barclay Internati...</td>\n",
       "    </tr>\n",
       "    <tr>\n",
       "      <th>10</th>\n",
       "      <td>TIP</td>\n",
       "      <td>Inflation-Indexed iShares TIPS Bond</td>\n",
       "    </tr>\n",
       "    <tr>\n",
       "      <th>11</th>\n",
       "      <td>SHV</td>\n",
       "      <td>iShares Short Treasury Bond</td>\n",
       "    </tr>\n",
       "  </tbody>\n",
       "</table>\n",
       "</div>"
      ],
      "text/plain": [
       "   Unnamed: 0                                    ETF Description\n",
       "0         SPY                        Domestic Equity SPDR S&P500\n",
       "1         EFA                        Foreign Equity iShares EAFE\n",
       "2         EEM                           iShares Emerging Markets\n",
       "3         PSP       Private Equity Invesco Global Private Equity\n",
       "4         QAI                     Absolute Return IQ Multi-Strat\n",
       "5         HYG       High Yield iShares High Yield Corporate Bond\n",
       "6         DBC           Invesco DB Commodity Index Tracking Fund\n",
       "7         IYR                 Real Estate iShares US Real Estate\n",
       "8         IEF          Domestic Bonds iShares 7-10 Year Treasury\n",
       "9         BWX  Foreign Bonds SPDR Bloomberg Barclay Internati...\n",
       "10        TIP                Inflation-Indexed iShares TIPS Bond\n",
       "11        SHV                        iShares Short Treasury Bond"
      ]
     },
     "execution_count": 9,
     "metadata": {},
     "output_type": "execute_result"
    }
   ],
   "source": [
    "xlsx.parse(xlsx.sheet_names[0])"
   ]
  },
  {
   "cell_type": "markdown",
   "metadata": {},
   "source": [
    "# 3 The MV frontier\n",
    "\n",
    "(a) Compute and display the weights of the tangency portfolios: $\\omega^{tan}$.\n",
    "\n",
    "$$\n",
    "\\omega^{tan} = \\biggl( \\frac{1}{\\mathbb{1}^T \\Sigma^{-1} \\tilde{\\mu}} \\biggr) \\Sigma^{-1} \\tilde{\\mu} \\\\\n",
    "$$"
   ]
  },
  {
   "cell_type": "code",
   "execution_count": 10,
   "metadata": {},
   "outputs": [
    {
     "data": {
      "text/plain": [
       "BWX   -0.259236\n",
       "DBC   -0.049786\n",
       "EEM    0.068120\n",
       "EFA   -0.157671\n",
       "HYG    0.775635\n",
       "IEF    1.734962\n",
       "IYR   -0.366667\n",
       "PSP   -0.000685\n",
       "QAI   -2.477194\n",
       "SPY    1.540749\n",
       "TIP    0.191773\n",
       "dtype: float64"
      ]
     },
     "execution_count": 10,
     "metadata": {},
     "output_type": "execute_result"
    }
   ],
   "source": [
    "def mvtan(cov, mu):\n",
    "    wt = np.linalg.inv(cov.values) @ mu\n",
    "    return pd.Series(wt / sum(wt), index=cov.index)\n",
    "\n",
    "cov = ex.cov()\n",
    "wt = mvtan(cov, stats.T[\"mean\"])\n",
    "wt"
   ]
  },
  {
   "cell_type": "markdown",
   "metadata": {},
   "source": [
    "(b) Compute the mean, volatility, and Sharpe ratio for the tangency portfolio corresponding to $\\omega^{tan}$."
   ]
  },
  {
   "cell_type": "code",
   "execution_count": 11,
   "metadata": {},
   "outputs": [
    {
     "data": {
      "text/html": [
       "<div>\n",
       "<style scoped>\n",
       "    .dataframe tbody tr th:only-of-type {\n",
       "        vertical-align: middle;\n",
       "    }\n",
       "\n",
       "    .dataframe tbody tr th {\n",
       "        vertical-align: top;\n",
       "    }\n",
       "\n",
       "    .dataframe thead th {\n",
       "        text-align: right;\n",
       "    }\n",
       "</style>\n",
       "<table border=\"1\" class=\"dataframe\">\n",
       "  <thead>\n",
       "    <tr style=\"text-align: right;\">\n",
       "      <th></th>\n",
       "      <th>Portfolio</th>\n",
       "    </tr>\n",
       "  </thead>\n",
       "  <tbody>\n",
       "    <tr>\n",
       "      <th>mean</th>\n",
       "      <td>0.237767</td>\n",
       "    </tr>\n",
       "    <tr>\n",
       "      <th>std</th>\n",
       "      <td>0.104802</td>\n",
       "    </tr>\n",
       "    <tr>\n",
       "      <th>sharpe</th>\n",
       "      <td>2.268728</td>\n",
       "    </tr>\n",
       "  </tbody>\n",
       "</table>\n",
       "</div>"
      ],
      "text/plain": [
       "        Portfolio\n",
       "mean     0.237767\n",
       "std      0.104802\n",
       "sharpe   2.268728"
      ]
     },
     "execution_count": 11,
     "metadata": {},
     "output_type": "execute_result"
    }
   ],
   "source": [
    "vtan = ex @ wt\n",
    "vtan_stats = portstats(vtan, 12)\n",
    "\n",
    "vtan_stats"
   ]
  },
  {
   "cell_type": "markdown",
   "metadata": {
    "tags": []
   },
   "source": [
    "# 4 The allocation\n",
    "\n",
    "(a) Compute and display the weights of MV portfolios with target returns of $\\tilde{\\mu}^p$ = .01\n",
    "\n",
    "$$\\begin{aligned}\n",
    "w^* &= \\tilde{\\delta} w^t \\\\\n",
    "w^t &= \\underbrace{\\biggl( \\frac{1}{\\mathbb{1}^T \\Sigma^{-1} \\tilde{\\mu}} \\biggr)}_{\\text{scalar}} \\Sigma^{-1} \\tilde{\\mu} \\\\\n",
    "\\tilde{\\delta} &= \\underbrace{\\biggl( \\frac{\\mathbb{1}^T \\Sigma^{-1} \\tilde{\\mu}}{\\tilde{\\mu}^T \\Sigma^{-1} \\tilde{\\mu}} \\biggr)}_{\\text{scalar}} \\underbrace{\\tilde{\\mu}^p}_{\\text{scalar}} \\\\\n",
    "w^* &= \\tilde{\\mu}^p \\biggl( \\frac{1}{\\mathbb{1}^T \\Sigma^{-1} \\tilde{\\mu}} \\biggr) \\biggl( \\frac{\\mathbb{1}^T \\Sigma^{-1} \\tilde{\\mu}}{\\tilde{\\mu}^T \\Sigma^{-1} \\tilde{\\mu}} \\biggr) \\Sigma^{-1} \\tilde{\\mu} \\\\\n",
    "w^* &= \\tilde{\\mu}^p \\biggl( \\frac{1}{\\tilde{\\mu}^T \\Sigma^{-1} \\tilde{\\mu}} \\biggr) \\Sigma^{-1} \\tilde{\\mu} \\\\\n",
    "\\end{aligned}$$"
   ]
  },
  {
   "cell_type": "code",
   "execution_count": 12,
   "metadata": {},
   "outputs": [
    {
     "name": "stdout",
     "output_type": "stream",
     "text": [
      "BWX   -0.130835\n",
      "DBC   -0.025127\n",
      "EEM    0.034380\n",
      "EFA   -0.079576\n",
      "HYG    0.391459\n",
      "IEF    0.875628\n",
      "IYR   -0.185055\n",
      "PSP   -0.000346\n",
      "QAI   -1.250228\n",
      "SPY    0.777609\n",
      "TIP    0.096787\n",
      "dtype: float64\n",
      "Therefore, the allocation to Treasuries is 0.49530457323750154\n"
     ]
    }
   ],
   "source": [
    "def mvport(cov, mu, target):\n",
    "    covinv = np.linalg.inv(cov)\n",
    "    wmv = target / (mu.T @ covinv @ mu) * covinv @ mu\n",
    "    return pd.Series(wmv, index=cov.index)\n",
    "\n",
    "target = .01 * 12 # Annualize 0.01 monthly targeted returns\n",
    "wmv = mvport(cov, stats.T[\"mean\"], target)\n",
    "print(wmv)\n",
    "print(f\"Therefore, the allocation to Treasuries is {1-sum(wmv)}\")"
   ]
  },
  {
   "cell_type": "markdown",
   "metadata": {},
   "source": [
    "(b) What is the mean, volatility, and Sharpe ratio for wp?"
   ]
  },
  {
   "cell_type": "code",
   "execution_count": 13,
   "metadata": {},
   "outputs": [
    {
     "data": {
      "text/html": [
       "<div>\n",
       "<style scoped>\n",
       "    .dataframe tbody tr th:only-of-type {\n",
       "        vertical-align: middle;\n",
       "    }\n",
       "\n",
       "    .dataframe tbody tr th {\n",
       "        vertical-align: top;\n",
       "    }\n",
       "\n",
       "    .dataframe thead th {\n",
       "        text-align: right;\n",
       "    }\n",
       "</style>\n",
       "<table border=\"1\" class=\"dataframe\">\n",
       "  <thead>\n",
       "    <tr style=\"text-align: right;\">\n",
       "      <th></th>\n",
       "      <th>Portfolio</th>\n",
       "    </tr>\n",
       "  </thead>\n",
       "  <tbody>\n",
       "    <tr>\n",
       "      <th>mean</th>\n",
       "      <td>0.120000</td>\n",
       "    </tr>\n",
       "    <tr>\n",
       "      <th>std</th>\n",
       "      <td>0.052893</td>\n",
       "    </tr>\n",
       "    <tr>\n",
       "      <th>sharpe</th>\n",
       "      <td>2.268728</td>\n",
       "    </tr>\n",
       "  </tbody>\n",
       "</table>\n",
       "</div>"
      ],
      "text/plain": [
       "        Portfolio\n",
       "mean     0.120000\n",
       "std      0.052893\n",
       "sharpe   2.268728"
      ]
     },
     "execution_count": 13,
     "metadata": {},
     "output_type": "execute_result"
    }
   ],
   "source": [
    "vmv = ex @ wmv\n",
    "vmv_stats = portstats(vmv, 12)\n",
    "vmv_stats"
   ]
  },
  {
   "cell_type": "markdown",
   "metadata": {},
   "source": [
    "(c) Discuss the allocation. In which assets is the portfolio most long? And short?\n",
    "\n",
    "The allocation has six short positions and five long positions, which can lead to lower returns due to the short transaction fees. Additionally, around 49% of the total allocation is in the treasuries, meaning higher returns can be achieved. Based on the optimized weights, the portfolio is most long in SPY (S&P 500 Index Fund) and IEF (Domestic Bonds fund) and substantially short in QAI (Absolute Return Fund)."
   ]
  },
  {
   "cell_type": "code",
   "execution_count": 14,
   "metadata": {},
   "outputs": [
    {
     "name": "stdout",
     "output_type": "stream",
     "text": [
      "The most LONG  allocation is in IEF @ 0.88\n",
      "The most SHORT allocation is in QAI @ -1.25\n"
     ]
    }
   ],
   "source": [
    "lo = wmv.idxmax()\n",
    "sh = wmv.idxmin()\n",
    "\n",
    "print(f\"The most LONG  allocation is in {lo} @ {wmv[lo]:.2f}\")\n",
    "print(f\"The most SHORT allocation is in {sh} @ {wmv[sh]:.2f}\")"
   ]
  },
  {
   "cell_type": "markdown",
   "metadata": {},
   "source": [
    "(d) Does this line up with which assets have the strongest Sharpe ratios?\n",
    "\n",
    "No, it may be due to the optimization problem that we set up. The optimization problem considers the covariance matrix, whereas the Sharpe ratio only considers the variance of an individual asset. As a result, individually picked assets can perform worse in a portfolio because of the covariance with other securities."
   ]
  },
  {
   "cell_type": "code",
   "execution_count": 15,
   "metadata": {},
   "outputs": [
    {
     "name": "stdout",
     "output_type": "stream",
     "text": [
      "The BEST  SHARPE asset is SPY SR@ 1.18 weight@ 0.78\n",
      "The WORST SHARPE asset is DBC SR@ 0.06 weight@ -0.03\n",
      "\n",
      "The most LONG    asset is IEF SR@ 0.59 weight@ 0.88\n",
      "The most SHORT   asset is QAI SR@ 0.58 weight@ -1.25\n"
     ]
    }
   ],
   "source": [
    "sr = stats.T[\"sharpe\"]\n",
    "best_sr = sr.idxmax()\n",
    "wors_sr = sr.idxmin()\n",
    "\n",
    "print(f\"The BEST  SHARPE asset is {best_sr} SR@ {sr[best_sr]:.2f} weight@ {wmv[best_sr]:.2f}\")\n",
    "print(f\"The WORST SHARPE asset is {wors_sr} SR@ {sr[wors_sr]:.2f} weight@ {wmv[wors_sr]:.2f}\\n\")\n",
    "\n",
    "print(f\"The most LONG    asset is {lo} SR@ {sr[lo]:.2f} weight@ {wmv[lo]:.2f}\")\n",
    "print(f\"The most SHORT   asset is {sh} SR@ {sr[sh]:.2f} weight@ {wmv[sh]:.2f}\")"
   ]
  },
  {
   "cell_type": "markdown",
   "metadata": {
    "tags": []
   },
   "source": [
    "# 5 Simple Portfolios\n",
    "\n",
    "(a) Calculate the performance of the equally-weighted portfolio over the sample. Rescale the entire weighting vector to have target mean $\\tilde{w}$ = .01. Report its mean, volatility, and Sharpe ratio."
   ]
  },
  {
   "cell_type": "code",
   "execution_count": 16,
   "metadata": {},
   "outputs": [
    {
     "data": {
      "text/html": [
       "<div>\n",
       "<style scoped>\n",
       "    .dataframe tbody tr th:only-of-type {\n",
       "        vertical-align: middle;\n",
       "    }\n",
       "\n",
       "    .dataframe tbody tr th {\n",
       "        vertical-align: top;\n",
       "    }\n",
       "\n",
       "    .dataframe thead th {\n",
       "        text-align: right;\n",
       "    }\n",
       "</style>\n",
       "<table border=\"1\" class=\"dataframe\">\n",
       "  <thead>\n",
       "    <tr style=\"text-align: right;\">\n",
       "      <th></th>\n",
       "      <th>Portfolio</th>\n",
       "    </tr>\n",
       "  </thead>\n",
       "  <tbody>\n",
       "    <tr>\n",
       "      <th>mean</th>\n",
       "      <td>0.082030</td>\n",
       "    </tr>\n",
       "    <tr>\n",
       "      <th>std</th>\n",
       "      <td>0.098133</td>\n",
       "    </tr>\n",
       "    <tr>\n",
       "      <th>sharpe</th>\n",
       "      <td>0.835910</td>\n",
       "    </tr>\n",
       "  </tbody>\n",
       "</table>\n",
       "</div>"
      ],
      "text/plain": [
       "        Portfolio\n",
       "mean     0.082030\n",
       "std      0.098133\n",
       "sharpe   0.835910"
      ]
     },
     "execution_count": 16,
     "metadata": {},
     "output_type": "execute_result"
    }
   ],
   "source": [
    "n = ex.shape[1]\n",
    "we = np.ones(n) * 1/n\n",
    "\n",
    "ve = ex @ we\n",
    "ve_stats = portstats(ve, 12)\n",
    "ve_stats"
   ]
  },
  {
   "cell_type": "code",
   "execution_count": 17,
   "metadata": {},
   "outputs": [
    {
     "data": {
      "text/html": [
       "<div>\n",
       "<style scoped>\n",
       "    .dataframe tbody tr th:only-of-type {\n",
       "        vertical-align: middle;\n",
       "    }\n",
       "\n",
       "    .dataframe tbody tr th {\n",
       "        vertical-align: top;\n",
       "    }\n",
       "\n",
       "    .dataframe thead th {\n",
       "        text-align: right;\n",
       "    }\n",
       "</style>\n",
       "<table border=\"1\" class=\"dataframe\">\n",
       "  <thead>\n",
       "    <tr style=\"text-align: right;\">\n",
       "      <th></th>\n",
       "      <th>Portfolio</th>\n",
       "    </tr>\n",
       "  </thead>\n",
       "  <tbody>\n",
       "    <tr>\n",
       "      <th>mean</th>\n",
       "      <td>0.120000</td>\n",
       "    </tr>\n",
       "    <tr>\n",
       "      <th>std</th>\n",
       "      <td>0.143556</td>\n",
       "    </tr>\n",
       "    <tr>\n",
       "      <th>sharpe</th>\n",
       "      <td>0.835910</td>\n",
       "    </tr>\n",
       "  </tbody>\n",
       "</table>\n",
       "</div>"
      ],
      "text/plain": [
       "        Portfolio\n",
       "mean     0.120000\n",
       "std      0.143556\n",
       "sharpe   0.835910"
      ]
     },
     "execution_count": 17,
     "metadata": {},
     "output_type": "execute_result"
    }
   ],
   "source": [
    "scale = target / (stats.T[\"mean\"] @ we)\n",
    "wes = we * scale\n",
    "ves = ex @ wes\n",
    "ves_stats = portstats(ves, 12)\n",
    "ves_stats"
   ]
  },
  {
   "cell_type": "markdown",
   "metadata": {},
   "source": [
    "(b) Calculate the performance of the “risk-parity” portfolio over the sample. Risk-parity is a term used in a variety of ways, but here we have in mind setting the weight of the portfolio to be proportional to the inverse of its full-sample volatility estimate.\n",
    "$$w^i = \\frac{1}{\\sigma_i}$$\n",
    "This will give the weight vector, w, but you will need to rescale it to have a target mean of $\\tilde{\\mu}$ = .01."
   ]
  },
  {
   "cell_type": "code",
   "execution_count": 18,
   "metadata": {},
   "outputs": [
    {
     "data": {
      "text/html": [
       "<div>\n",
       "<style scoped>\n",
       "    .dataframe tbody tr th:only-of-type {\n",
       "        vertical-align: middle;\n",
       "    }\n",
       "\n",
       "    .dataframe tbody tr th {\n",
       "        vertical-align: top;\n",
       "    }\n",
       "\n",
       "    .dataframe thead th {\n",
       "        text-align: right;\n",
       "    }\n",
       "</style>\n",
       "<table border=\"1\" class=\"dataframe\">\n",
       "  <thead>\n",
       "    <tr style=\"text-align: right;\">\n",
       "      <th></th>\n",
       "      <th>Portfolio</th>\n",
       "    </tr>\n",
       "  </thead>\n",
       "  <tbody>\n",
       "    <tr>\n",
       "      <th>mean</th>\n",
       "      <td>0.120000</td>\n",
       "    </tr>\n",
       "    <tr>\n",
       "      <th>std</th>\n",
       "      <td>0.128353</td>\n",
       "    </tr>\n",
       "    <tr>\n",
       "      <th>sharpe</th>\n",
       "      <td>0.934925</td>\n",
       "    </tr>\n",
       "  </tbody>\n",
       "</table>\n",
       "</div>"
      ],
      "text/plain": [
       "        Portfolio\n",
       "mean     0.120000\n",
       "std      0.128353\n",
       "sharpe   0.934925"
      ]
     },
     "execution_count": 18,
     "metadata": {},
     "output_type": "execute_result"
    }
   ],
   "source": [
    "wi = 1 / stats.T[\"std\"]\n",
    "scale = target / (stats.T[\"mean\"] @ wi)\n",
    "wis = wi * scale\n",
    "vis = ex @ wis\n",
    "vis_stats = portstats(vis, 12)\n",
    "vis_stats"
   ]
  },
  {
   "cell_type": "markdown",
   "metadata": {},
   "source": [
    "(c) How does these compare to the MV portfolio from problem 2.4?\n",
    "\n",
    "These statistics compare poorly to the MV portfolio in problem 2.4 given that the sharpe ratio of the MV portfolio was close to 2.5 times the simple portfolios sharpe ratios. In addition the volatility of the MV portfolio is less than half the volatility of the simple portfolio. In short the MV portfolio offers the same return with half the volatility of the simple portfolio."
   ]
  },
  {
   "cell_type": "markdown",
   "metadata": {},
   "source": [
    "# 6 Out-of-Sample Performance\n",
    "\n",
    "Let’s divide the sample to both compute a portfolio and then check its performance out of sample.\n",
    "\n",
    "(a) Using only data through the end of 2020, compute $w^p$ for $\\tilde{\\mu}^p$ = .01, allocating to all 11 assets."
   ]
  },
  {
   "cell_type": "code",
   "execution_count": 19,
   "metadata": {},
   "outputs": [
    {
     "data": {
      "text/plain": [
       "BWX   -0.039015\n",
       "DBC   -0.070831\n",
       "EEM    0.027148\n",
       "EFA   -0.076195\n",
       "HYG    0.461413\n",
       "IEF    0.844823\n",
       "IYR   -0.209008\n",
       "PSP   -0.024835\n",
       "QAI   -1.197772\n",
       "SPY    0.785429\n",
       "TIP    0.056842\n",
       "dtype: float64"
      ]
     },
     "execution_count": 19,
     "metadata": {},
     "output_type": "execute_result"
    }
   ],
   "source": [
    "insam = ex.loc[ex.index < \"2021-01-01\", :]\n",
    "ousam = ex.loc[ex.index > \"2020-12-31\", :]\n",
    "\n",
    "cov_in = insam.cov()\n",
    "cov_ou = ousam.cov()\n",
    "\n",
    "mu_in = insam.mean() * 12\n",
    "mu_ou = ousam.mean() * 12\n",
    "\n",
    "wp_in = mvport(cov_in, mu_in, target)\n",
    "wp_in"
   ]
  },
  {
   "cell_type": "markdown",
   "metadata": {},
   "source": [
    "(b) Using those weights, calculate the portfolio’s Sharpe ratio within that sample, through the end of 2020."
   ]
  },
  {
   "cell_type": "code",
   "execution_count": 20,
   "metadata": {},
   "outputs": [
    {
     "data": {
      "text/html": [
       "<div>\n",
       "<style scoped>\n",
       "    .dataframe tbody tr th:only-of-type {\n",
       "        vertical-align: middle;\n",
       "    }\n",
       "\n",
       "    .dataframe tbody tr th {\n",
       "        vertical-align: top;\n",
       "    }\n",
       "\n",
       "    .dataframe thead th {\n",
       "        text-align: right;\n",
       "    }\n",
       "</style>\n",
       "<table border=\"1\" class=\"dataframe\">\n",
       "  <thead>\n",
       "    <tr style=\"text-align: right;\">\n",
       "      <th></th>\n",
       "      <th>Portfolio</th>\n",
       "    </tr>\n",
       "  </thead>\n",
       "  <tbody>\n",
       "    <tr>\n",
       "      <th>mean</th>\n",
       "      <td>0.120000</td>\n",
       "    </tr>\n",
       "    <tr>\n",
       "      <th>std</th>\n",
       "      <td>0.052405</td>\n",
       "    </tr>\n",
       "    <tr>\n",
       "      <th>sharpe</th>\n",
       "      <td>2.289853</td>\n",
       "    </tr>\n",
       "  </tbody>\n",
       "</table>\n",
       "</div>"
      ],
      "text/plain": [
       "        Portfolio\n",
       "mean     0.120000\n",
       "std      0.052405\n",
       "sharpe   2.289853"
      ]
     },
     "execution_count": 20,
     "metadata": {},
     "output_type": "execute_result"
    }
   ],
   "source": [
    "vp_in = insam @ wp_in\n",
    "vp_in_stats = portstats(vp_in, 12)\n",
    "vp_in_stats"
   ]
  },
  {
   "cell_type": "markdown",
   "metadata": {},
   "source": [
    "(c) Again using those weights, (derived using data through 2020,) calculate the portfolio’s Sharpe ratio based on performance in 2021."
   ]
  },
  {
   "cell_type": "code",
   "execution_count": 21,
   "metadata": {},
   "outputs": [
    {
     "data": {
      "text/html": [
       "<div>\n",
       "<style scoped>\n",
       "    .dataframe tbody tr th:only-of-type {\n",
       "        vertical-align: middle;\n",
       "    }\n",
       "\n",
       "    .dataframe tbody tr th {\n",
       "        vertical-align: top;\n",
       "    }\n",
       "\n",
       "    .dataframe thead th {\n",
       "        text-align: right;\n",
       "    }\n",
       "</style>\n",
       "<table border=\"1\" class=\"dataframe\">\n",
       "  <thead>\n",
       "    <tr style=\"text-align: right;\">\n",
       "      <th></th>\n",
       "      <th>Portfolio</th>\n",
       "    </tr>\n",
       "  </thead>\n",
       "  <tbody>\n",
       "    <tr>\n",
       "      <th>mean</th>\n",
       "      <td>0.099879</td>\n",
       "    </tr>\n",
       "    <tr>\n",
       "      <th>std</th>\n",
       "      <td>0.066159</td>\n",
       "    </tr>\n",
       "    <tr>\n",
       "      <th>sharpe</th>\n",
       "      <td>1.509685</td>\n",
       "    </tr>\n",
       "  </tbody>\n",
       "</table>\n",
       "</div>"
      ],
      "text/plain": [
       "        Portfolio\n",
       "mean     0.099879\n",
       "std      0.066159\n",
       "sharpe   1.509685"
      ]
     },
     "execution_count": 21,
     "metadata": {},
     "output_type": "execute_result"
    }
   ],
   "source": [
    "vp_ou = ousam @ wp_in\n",
    "vp_ou_stats = portstats(vp_ou, 12)\n",
    "vp_ou_stats"
   ]
  },
  {
   "cell_type": "code",
   "execution_count": null,
   "metadata": {},
   "outputs": [],
   "source": []
  }
 ],
 "metadata": {
  "kernelspec": {
   "display_name": "Python 3 (ipykernel)",
   "language": "python",
   "name": "python3"
  },
  "language_info": {
   "codemirror_mode": {
    "name": "ipython",
    "version": 3
   },
   "file_extension": ".py",
   "mimetype": "text/x-python",
   "name": "python",
   "nbconvert_exporter": "python",
   "pygments_lexer": "ipython3",
   "version": "3.9.7"
  }
 },
 "nbformat": 4,
 "nbformat_minor": 4
}
